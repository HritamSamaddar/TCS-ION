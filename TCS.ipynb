{
 "cells": [
  {
   "cell_type": "markdown",
   "id": "78006649",
   "metadata": {},
   "source": [
    "# dependencies"
   ]
  },
  {
   "cell_type": "code",
   "execution_count": 1,
   "id": "bf8a898d",
   "metadata": {},
   "outputs": [],
   "source": [
    "import numpy as np\n",
    "import pandas as pd\n",
    "from sklearn.preprocessing import normalize \n",
    "import matplotlib as mpl\n",
    "from matplotlib.pyplot import plot\n",
    "import scipy\n",
    "import seaborn as sns\n",
    "from sklearn.metrics import accuracy_score\n",
    "from sklearn.model_selection import train_test_split\n",
    "from sklearn.pipeline import Pipeline\n",
    "import neattext as nt \n",
    "from sklearn.feature_extraction.text import CountVectorizer\n",
    "from sklearn.linear_model import LogisticRegression"
   ]
  },
  {
   "cell_type": "markdown",
   "id": "d0abb672",
   "metadata": {},
   "source": [
    "# import data"
   ]
  },
  {
   "cell_type": "code",
   "execution_count": 2,
   "id": "15ca7cf7",
   "metadata": {},
   "outputs": [
    {
     "data": {
      "text/html": [
       "<div>\n",
       "<style scoped>\n",
       "    .dataframe tbody tr th:only-of-type {\n",
       "        vertical-align: middle;\n",
       "    }\n",
       "\n",
       "    .dataframe tbody tr th {\n",
       "        vertical-align: top;\n",
       "    }\n",
       "\n",
       "    .dataframe thead th {\n",
       "        text-align: right;\n",
       "    }\n",
       "</style>\n",
       "<table border=\"1\" class=\"dataframe\">\n",
       "  <thead>\n",
       "    <tr style=\"text-align: right;\">\n",
       "      <th></th>\n",
       "      <th>_unit_id</th>\n",
       "      <th>_golden</th>\n",
       "      <th>_unit_state</th>\n",
       "      <th>_trusted_judgments</th>\n",
       "      <th>_last_judgment_at</th>\n",
       "      <th>emotion</th>\n",
       "      <th>emotion:confidence</th>\n",
       "      <th>emotion_gold</th>\n",
       "      <th>id</th>\n",
       "      <th>idiom_id</th>\n",
       "      <th>sentence</th>\n",
       "    </tr>\n",
       "  </thead>\n",
       "  <tbody>\n",
       "    <tr>\n",
       "      <th>0</th>\n",
       "      <td>731671736</td>\n",
       "      <td>False</td>\n",
       "      <td>finalized</td>\n",
       "      <td>5</td>\n",
       "      <td>6/8/15 16:10</td>\n",
       "      <td>Neutral</td>\n",
       "      <td>0.3333</td>\n",
       "      <td>NaN</td>\n",
       "      <td>1</td>\n",
       "      <td>1</td>\n",
       "      <td>How much of the forecast was genuine and how m...</td>\n",
       "    </tr>\n",
       "    <tr>\n",
       "      <th>1</th>\n",
       "      <td>731671737</td>\n",
       "      <td>False</td>\n",
       "      <td>finalized</td>\n",
       "      <td>5</td>\n",
       "      <td>6/12/15 14:33</td>\n",
       "      <td>Neutral</td>\n",
       "      <td>0.3885</td>\n",
       "      <td>NaN</td>\n",
       "      <td>2</td>\n",
       "      <td>2</td>\n",
       "      <td>I did touch them one time you see but of cours...</td>\n",
       "    </tr>\n",
       "    <tr>\n",
       "      <th>2</th>\n",
       "      <td>731671738</td>\n",
       "      <td>False</td>\n",
       "      <td>finalized</td>\n",
       "      <td>5</td>\n",
       "      <td>6/8/15 16:10</td>\n",
       "      <td>Neutral</td>\n",
       "      <td>0.3333</td>\n",
       "      <td>NaN</td>\n",
       "      <td>3</td>\n",
       "      <td>3</td>\n",
       "      <td>We find that choice theorists admit that they ...</td>\n",
       "    </tr>\n",
       "    <tr>\n",
       "      <th>3</th>\n",
       "      <td>731671739</td>\n",
       "      <td>False</td>\n",
       "      <td>finalized</td>\n",
       "      <td>5</td>\n",
       "      <td>6/8/15 16:30</td>\n",
       "      <td>Neutral</td>\n",
       "      <td>0.3690</td>\n",
       "      <td>NaN</td>\n",
       "      <td>4</td>\n",
       "      <td>4</td>\n",
       "      <td>Well, here I am with an olive branch.</td>\n",
       "    </tr>\n",
       "    <tr>\n",
       "      <th>4</th>\n",
       "      <td>731671740</td>\n",
       "      <td>False</td>\n",
       "      <td>finalized</td>\n",
       "      <td>5</td>\n",
       "      <td>6/8/15 16:30</td>\n",
       "      <td>Neutral</td>\n",
       "      <td>0.5572</td>\n",
       "      <td>NaN</td>\n",
       "      <td>5</td>\n",
       "      <td>5</td>\n",
       "      <td>Its rudder and fin were both knocked out, and ...</td>\n",
       "    </tr>\n",
       "  </tbody>\n",
       "</table>\n",
       "</div>"
      ],
      "text/plain": [
       "    _unit_id  _golden _unit_state  _trusted_judgments _last_judgment_at  \\\n",
       "0  731671736    False   finalized                   5      6/8/15 16:10   \n",
       "1  731671737    False   finalized                   5     6/12/15 14:33   \n",
       "2  731671738    False   finalized                   5      6/8/15 16:10   \n",
       "3  731671739    False   finalized                   5      6/8/15 16:30   \n",
       "4  731671740    False   finalized                   5      6/8/15 16:30   \n",
       "\n",
       "   emotion  emotion:confidence emotion_gold  id  idiom_id  \\\n",
       "0  Neutral              0.3333          NaN   1         1   \n",
       "1  Neutral              0.3885          NaN   2         2   \n",
       "2  Neutral              0.3333          NaN   3         3   \n",
       "3  Neutral              0.3690          NaN   4         4   \n",
       "4  Neutral              0.5572          NaN   5         5   \n",
       "\n",
       "                                            sentence  \n",
       "0  How much of the forecast was genuine and how m...  \n",
       "1  I did touch them one time you see but of cours...  \n",
       "2  We find that choice theorists admit that they ...  \n",
       "3              Well, here I am with an olive branch.  \n",
       "4  Its rudder and fin were both knocked out, and ...  "
      ]
     },
     "execution_count": 2,
     "metadata": {},
     "output_type": "execute_result"
    }
   ],
   "source": [
    "df=pd.read_csv('primary-plutchik-wheel-DFE.csv')\n",
    "df.head()"
   ]
  },
  {
   "cell_type": "markdown",
   "id": "26120754",
   "metadata": {},
   "source": [
    "# Analysing the data"
   ]
  },
  {
   "cell_type": "code",
   "execution_count": 3,
   "id": "cea0bb27",
   "metadata": {},
   "outputs": [
    {
     "data": {
      "text/plain": [
       "(2524, 11)"
      ]
     },
     "execution_count": 3,
     "metadata": {},
     "output_type": "execute_result"
    }
   ],
   "source": [
    "df.shape\n"
   ]
  },
  {
   "cell_type": "code",
   "execution_count": 4,
   "id": "86098238",
   "metadata": {},
   "outputs": [
    {
     "data": {
      "text/plain": [
       "_unit_id                 0\n",
       "_golden                  0\n",
       "_unit_state              0\n",
       "_trusted_judgments       0\n",
       "_last_judgment_at       24\n",
       "emotion                  0\n",
       "emotion:confidence       0\n",
       "emotion_gold          2470\n",
       "id                       0\n",
       "idiom_id                 0\n",
       "sentence                 0\n",
       "dtype: int64"
      ]
     },
     "execution_count": 4,
     "metadata": {},
     "output_type": "execute_result"
    }
   ],
   "source": [
    "df.isnull().sum()"
   ]
  },
  {
   "cell_type": "code",
   "execution_count": 5,
   "id": "cd662e70",
   "metadata": {},
   "outputs": [
    {
     "data": {
      "text/plain": [
       "_unit_id                int64\n",
       "_golden                  bool\n",
       "_unit_state            object\n",
       "_trusted_judgments      int64\n",
       "_last_judgment_at      object\n",
       "emotion                object\n",
       "emotion:confidence    float64\n",
       "emotion_gold           object\n",
       "id                      int64\n",
       "idiom_id                int64\n",
       "sentence               object\n",
       "dtype: object"
      ]
     },
     "execution_count": 5,
     "metadata": {},
     "output_type": "execute_result"
    }
   ],
   "source": [
    "df.dtypes"
   ]
  },
  {
   "cell_type": "code",
   "execution_count": 6,
   "id": "6a9e73d4",
   "metadata": {},
   "outputs": [
    {
     "name": "stdout",
     "output_type": "stream",
     "text": [
      "<class 'pandas.core.frame.DataFrame'>\n",
      "RangeIndex: 2524 entries, 0 to 2523\n",
      "Data columns (total 11 columns):\n",
      " #   Column              Non-Null Count  Dtype  \n",
      "---  ------              --------------  -----  \n",
      " 0   _unit_id            2524 non-null   int64  \n",
      " 1   _golden             2524 non-null   bool   \n",
      " 2   _unit_state         2524 non-null   object \n",
      " 3   _trusted_judgments  2524 non-null   int64  \n",
      " 4   _last_judgment_at   2500 non-null   object \n",
      " 5   emotion             2524 non-null   object \n",
      " 6   emotion:confidence  2524 non-null   float64\n",
      " 7   emotion_gold        54 non-null     object \n",
      " 8   id                  2524 non-null   int64  \n",
      " 9   idiom_id            2524 non-null   int64  \n",
      " 10  sentence            2524 non-null   object \n",
      "dtypes: bool(1), float64(1), int64(4), object(5)\n",
      "memory usage: 199.8+ KB\n"
     ]
    }
   ],
   "source": [
    "df.info()"
   ]
  },
  {
   "cell_type": "code",
   "execution_count": 7,
   "id": "33b635f1",
   "metadata": {},
   "outputs": [
    {
     "data": {
      "text/plain": [
       "<AxesSubplot:>"
      ]
     },
     "execution_count": 7,
     "metadata": {},
     "output_type": "execute_result"
    },
    {
     "data": {
      "image/png": "[encoded data removed]",
      "text/plain": [
       "<Figure size 432x288 with 1 Axes>"
      ]
     },
     "metadata": {
      "needs_background": "light"
     },
     "output_type": "display_data"
    }
   ],
   "source": [
    "df['emotion'].value_counts().plot(kind='bar')"
   ]
  },
  {
   "cell_type": "code",
   "execution_count": 9,
   "id": "201fe9cc",
   "metadata": {},
   "outputs": [
    {
     "data": {
      "image/png": "[encoded data removed]",
      "text/plain": [
       "<Figure size 1440x1080 with 1 Axes>"
      ]
     },
     "metadata": {},
     "output_type": "display_data"
    }
   ],
   "source": [
    "sns.countplot(x='emotion',data=df)\n",
    "sns.set(rc = {'figure.figsize':(20,12)})"
   ]
  },
  {
   "cell_type": "markdown",
   "id": "0076d9b3",
   "metadata": {},
   "source": [
    "# Creating new dataframe with sentence and emotion"
   ]
  },
  {
   "cell_type": "code",
   "execution_count": 9,
   "id": "5c02ac43",
   "metadata": {},
   "outputs": [],
   "source": [
    "new_df=df[[\"sentence\",\"emotion\"]]"
   ]
  },
  {
   "cell_type": "code",
   "execution_count": 10,
   "id": "654990de",
   "metadata": {},
   "outputs": [
    {
     "data": {
      "text/html": [
       "<div>\n",
       "<style scoped>\n",
       "    .dataframe tbody tr th:only-of-type {\n",
       "        vertical-align: middle;\n",
       "    }\n",
       "\n",
       "    .dataframe tbody tr th {\n",
       "        vertical-align: top;\n",
       "    }\n",
       "\n",
       "    .dataframe thead th {\n",
       "        text-align: right;\n",
       "    }\n",
       "</style>\n",
       "<table border=\"1\" class=\"dataframe\">\n",
       "  <thead>\n",
       "    <tr style=\"text-align: right;\">\n",
       "      <th></th>\n",
       "      <th>sentence</th>\n",
       "      <th>emotion</th>\n",
       "    </tr>\n",
       "  </thead>\n",
       "  <tbody>\n",
       "    <tr>\n",
       "      <th>0</th>\n",
       "      <td>How much of the forecast was genuine and how m...</td>\n",
       "      <td>Neutral</td>\n",
       "    </tr>\n",
       "    <tr>\n",
       "      <th>1</th>\n",
       "      <td>I did touch them one time you see but of cours...</td>\n",
       "      <td>Neutral</td>\n",
       "    </tr>\n",
       "    <tr>\n",
       "      <th>2</th>\n",
       "      <td>We find that choice theorists admit that they ...</td>\n",
       "      <td>Neutral</td>\n",
       "    </tr>\n",
       "    <tr>\n",
       "      <th>3</th>\n",
       "      <td>Well, here I am with an olive branch.</td>\n",
       "      <td>Neutral</td>\n",
       "    </tr>\n",
       "    <tr>\n",
       "      <th>4</th>\n",
       "      <td>Its rudder and fin were both knocked out, and ...</td>\n",
       "      <td>Neutral</td>\n",
       "    </tr>\n",
       "  </tbody>\n",
       "</table>\n",
       "</div>"
      ],
      "text/plain": [
       "                                            sentence  emotion\n",
       "0  How much of the forecast was genuine and how m...  Neutral\n",
       "1  I did touch them one time you see but of cours...  Neutral\n",
       "2  We find that choice theorists admit that they ...  Neutral\n",
       "3              Well, here I am with an olive branch.  Neutral\n",
       "4  Its rudder and fin were both knocked out, and ...  Neutral"
      ]
     },
     "execution_count": 10,
     "metadata": {},
     "output_type": "execute_result"
    }
   ],
   "source": [
    "new_df.head()\n"
   ]
  },
  {
   "cell_type": "markdown",
   "id": "5cf1cc1d",
   "metadata": {},
   "source": [
    "# removing neutral"
   ]
  },
  {
   "cell_type": "code",
   "execution_count": 11,
   "id": "c8223cfd",
   "metadata": {
    "scrolled": false
   },
   "outputs": [],
   "source": [
    "new_df = new_df[new_df['emotion'] != 'Neutral']"
   ]
  },
  {
   "cell_type": "code",
   "execution_count": 12,
   "id": "8bf65b96",
   "metadata": {},
   "outputs": [
    {
     "data": {
      "text/html": [
       "<div>\n",
       "<style scoped>\n",
       "    .dataframe tbody tr th:only-of-type {\n",
       "        vertical-align: middle;\n",
       "    }\n",
       "\n",
       "    .dataframe tbody tr th {\n",
       "        vertical-align: top;\n",
       "    }\n",
       "\n",
       "    .dataframe thead th {\n",
       "        text-align: right;\n",
       "    }\n",
       "</style>\n",
       "<table border=\"1\" class=\"dataframe\">\n",
       "  <thead>\n",
       "    <tr style=\"text-align: right;\">\n",
       "      <th></th>\n",
       "      <th>sentence</th>\n",
       "      <th>emotion</th>\n",
       "    </tr>\n",
       "  </thead>\n",
       "  <tbody>\n",
       "    <tr>\n",
       "      <th>5</th>\n",
       "      <td>Over my dead body are you arresting him.</td>\n",
       "      <td>Anger</td>\n",
       "    </tr>\n",
       "    <tr>\n",
       "      <th>8</th>\n",
       "      <td>Aggie finally found the cat a good home and fr...</td>\n",
       "      <td>Optimism</td>\n",
       "    </tr>\n",
       "    <tr>\n",
       "      <th>10</th>\n",
       "      <td>You must sink your differences.</td>\n",
       "      <td>Optimism</td>\n",
       "    </tr>\n",
       "    <tr>\n",
       "      <th>11</th>\n",
       "      <td>Brian, as ever, decided not to sit on the fence.</td>\n",
       "      <td>Disgust</td>\n",
       "    </tr>\n",
       "    <tr>\n",
       "      <th>13</th>\n",
       "      <td>So, you know, whilst I'm a little bit reluctan...</td>\n",
       "      <td>Sadness</td>\n",
       "    </tr>\n",
       "  </tbody>\n",
       "</table>\n",
       "</div>"
      ],
      "text/plain": [
       "                                             sentence   emotion\n",
       "5            Over my dead body are you arresting him.     Anger\n",
       "8   Aggie finally found the cat a good home and fr...  Optimism\n",
       "10                    You must sink your differences.  Optimism\n",
       "11   Brian, as ever, decided not to sit on the fence.   Disgust\n",
       "13  So, you know, whilst I'm a little bit reluctan...   Sadness"
      ]
     },
     "execution_count": 12,
     "metadata": {},
     "output_type": "execute_result"
    }
   ],
   "source": [
    "new_df.head()"
   ]
  },
  {
   "cell_type": "code",
   "execution_count": 13,
   "id": "12a4aed5",
   "metadata": {},
   "outputs": [
    {
     "data": {
      "text/plain": [
       "Disapproval     323\n",
       "Optimism        269\n",
       "Joy             187\n",
       "Anticipation    175\n",
       "Anger           169\n",
       "Fear            124\n",
       "Sadness         116\n",
       "Surprise        102\n",
       "Ambiguous       100\n",
       "Contempt         83\n",
       "Submission       79\n",
       "Love             67\n",
       "Remorse          44\n",
       "Aggression       44\n",
       "Disgust          43\n",
       "Trust            33\n",
       "Awe              32\n",
       "Name: emotion, dtype: int64"
      ]
     },
     "execution_count": 13,
     "metadata": {},
     "output_type": "execute_result"
    }
   ],
   "source": [
    "new_df['emotion'].value_counts()"
   ]
  },
  {
   "cell_type": "markdown",
   "id": "957718fa",
   "metadata": {},
   "source": [
    "# neattext"
   ]
  },
  {
   "cell_type": "code",
   "execution_count": 14,
   "id": "2e250bd7",
   "metadata": {},
   "outputs": [
    {
     "data": {
      "text/plain": [
       "['AUTOMATED_READ_INDEX',\n",
       " 'BTC_ADDRESS_REGEX',\n",
       " 'CONTRACTIONS_DICT',\n",
       " 'CURRENCY_REGEX',\n",
       " 'CURRENCY_SYMB_REGEX',\n",
       " 'Callable',\n",
       " 'Counter',\n",
       " 'CreditCard_REGEX',\n",
       " 'DATE_REGEX',\n",
       " 'EMAIL_REGEX',\n",
       " 'EMOJI_REGEX',\n",
       " 'FUNCTORS_WORDLIST',\n",
       " 'HASTAG_REGEX',\n",
       " 'HTML_TAGS_REGEX',\n",
       " 'List',\n",
       " 'MASTERCard_REGEX',\n",
       " 'MD5_SHA_REGEX',\n",
       " 'MOST_COMMON_PUNCT_REGEX',\n",
       " 'NUMBERS_REGEX',\n",
       " 'PHONE_REGEX',\n",
       " 'PUNCT_REGEX',\n",
       " 'PoBOX_REGEX',\n",
       " 'SPECIAL_CHARACTERS_REGEX',\n",
       " 'STOPWORDS',\n",
       " 'STOPWORDS_de',\n",
       " 'STOPWORDS_en',\n",
       " 'STOPWORDS_es',\n",
       " 'STOPWORDS_fr',\n",
       " 'STOPWORDS_ru',\n",
       " 'STOPWORDS_yo',\n",
       " 'STREET_ADDRESS_REGEX',\n",
       " 'TextCleaner',\n",
       " 'TextExtractor',\n",
       " 'TextFrame',\n",
       " 'TextMetrics',\n",
       " 'TextPipeline',\n",
       " 'Tuple',\n",
       " 'URL_PATTERN',\n",
       " 'USER_HANDLES_REGEX',\n",
       " 'VISACard_REGEX',\n",
       " 'ZIP_REGEX',\n",
       " '__builtins__',\n",
       " '__cached__',\n",
       " '__doc__',\n",
       " '__file__',\n",
       " '__loader__',\n",
       " '__name__',\n",
       " '__package__',\n",
       " '__path__',\n",
       " '__spec__',\n",
       " '__version__',\n",
       " 'clean_text',\n",
       " 'defaultdict',\n",
       " 'digit2words',\n",
       " 'emoji_explainer',\n",
       " 'emojify',\n",
       " 'explainer',\n",
       " 'extract_btc_address',\n",
       " 'extract_currencies',\n",
       " 'extract_currency_symbols',\n",
       " 'extract_dates',\n",
       " 'extract_emails',\n",
       " 'extract_emojis',\n",
       " 'extract_hashtags',\n",
       " 'extract_html_tags',\n",
       " 'extract_mastercard_addr',\n",
       " 'extract_md5sha',\n",
       " 'extract_numbers',\n",
       " 'extract_pattern',\n",
       " 'extract_phone_numbers',\n",
       " 'extract_postoffice_box',\n",
       " 'extract_shortwords',\n",
       " 'extract_special_characters',\n",
       " 'extract_stopwords',\n",
       " 'extract_street_address',\n",
       " 'extract_terms_in_bracket',\n",
       " 'extract_urls',\n",
       " 'extract_userhandles',\n",
       " 'extract_visacard_addr',\n",
       " 'fix_contractions',\n",
       " 'functions',\n",
       " 'generate_sentence',\n",
       " 'hamming_distance',\n",
       " 'inverse_df',\n",
       " 'lexical_richness',\n",
       " 'markov_chain',\n",
       " 'math',\n",
       " 'neattext',\n",
       " 'nlargest',\n",
       " 'normalize',\n",
       " 'num2words',\n",
       " 'pattern_data',\n",
       " 'pipeline',\n",
       " 'random',\n",
       " 're',\n",
       " 'read_txt',\n",
       " 'remove_accents',\n",
       " 'remove_bad_quotes',\n",
       " 'remove_btc_address',\n",
       " 'remove_currencies',\n",
       " 'remove_currency_symbols',\n",
       " 'remove_custom_pattern',\n",
       " 'remove_custom_words',\n",
       " 'remove_dates',\n",
       " 'remove_emails',\n",
       " 'remove_emojis',\n",
       " 'remove_hashtags',\n",
       " 'remove_html_tags',\n",
       " 'remove_mastercard_addr',\n",
       " 'remove_md5sha',\n",
       " 'remove_multiple_spaces',\n",
       " 'remove_non_ascii',\n",
       " 'remove_numbers',\n",
       " 'remove_phone_numbers',\n",
       " 'remove_postoffice_box',\n",
       " 'remove_puncts',\n",
       " 'remove_punctuations',\n",
       " 'remove_shortwords',\n",
       " 'remove_special_characters',\n",
       " 'remove_stopwords',\n",
       " 'remove_street_address',\n",
       " 'remove_terms_in_bracket',\n",
       " 'remove_urls',\n",
       " 'remove_userhandles',\n",
       " 'remove_visacard_addr',\n",
       " 'replace_bad_quotes',\n",
       " 'replace_currencies',\n",
       " 'replace_currency_symbols',\n",
       " 'replace_dates',\n",
       " 'replace_emails',\n",
       " 'replace_emojis',\n",
       " 'replace_numbers',\n",
       " 'replace_phone_numbers',\n",
       " 'replace_special_characters',\n",
       " 'replace_term',\n",
       " 'replace_urls',\n",
       " 'string',\n",
       " 'term_freq',\n",
       " 'to_txt',\n",
       " 'unicode_2_emoji',\n",
       " 'unicodedata',\n",
       " 'word_freq',\n",
       " 'word_length_freq']"
      ]
     },
     "execution_count": 14,
     "metadata": {},
     "output_type": "execute_result"
    }
   ],
   "source": [
    "dir(nt)"
   ]
  },
  {
   "cell_type": "code",
   "execution_count": 15,
   "id": "4f69e558",
   "metadata": {},
   "outputs": [],
   "source": [
    "from neattext.functions import clean_text"
   ]
  },
  {
   "cell_type": "code",
   "execution_count": 16,
   "id": "2efa1839",
   "metadata": {},
   "outputs": [],
   "source": [
    "new_df['Clean_Sentence'] = new_df['sentence'].apply(nt.remove_userhandles)\n",
    "new_df['Clean_Sentence'] = new_df['sentence'].apply(nt.remove_stopwords)"
   ]
  },
  {
   "cell_type": "code",
   "execution_count": 17,
   "id": "7ba9e1a2",
   "metadata": {},
   "outputs": [
    {
     "data": {
      "text/html": [
       "<div>\n",
       "<style scoped>\n",
       "    .dataframe tbody tr th:only-of-type {\n",
       "        vertical-align: middle;\n",
       "    }\n",
       "\n",
       "    .dataframe tbody tr th {\n",
       "        vertical-align: top;\n",
       "    }\n",
       "\n",
       "    .dataframe thead th {\n",
       "        text-align: right;\n",
       "    }\n",
       "</style>\n",
       "<table border=\"1\" class=\"dataframe\">\n",
       "  <thead>\n",
       "    <tr style=\"text-align: right;\">\n",
       "      <th></th>\n",
       "      <th>sentence</th>\n",
       "      <th>emotion</th>\n",
       "      <th>Clean_Sentence</th>\n",
       "    </tr>\n",
       "  </thead>\n",
       "  <tbody>\n",
       "    <tr>\n",
       "      <th>5</th>\n",
       "      <td>Over my dead body are you arresting him.</td>\n",
       "      <td>Anger</td>\n",
       "      <td>dead body arresting him.</td>\n",
       "    </tr>\n",
       "    <tr>\n",
       "      <th>8</th>\n",
       "      <td>Aggie finally found the cat a good home and fr...</td>\n",
       "      <td>Optimism</td>\n",
       "      <td>Aggie finally found cat good home day onwards ...</td>\n",
       "    </tr>\n",
       "    <tr>\n",
       "      <th>10</th>\n",
       "      <td>You must sink your differences.</td>\n",
       "      <td>Optimism</td>\n",
       "      <td>sink differences.</td>\n",
       "    </tr>\n",
       "    <tr>\n",
       "      <th>11</th>\n",
       "      <td>Brian, as ever, decided not to sit on the fence.</td>\n",
       "      <td>Disgust</td>\n",
       "      <td>Brian, ever, decided sit fence.</td>\n",
       "    </tr>\n",
       "    <tr>\n",
       "      <th>13</th>\n",
       "      <td>So, you know, whilst I'm a little bit reluctan...</td>\n",
       "      <td>Sadness</td>\n",
       "      <td>So, know, whilst I'm little bit reluctant, way...</td>\n",
       "    </tr>\n",
       "  </tbody>\n",
       "</table>\n",
       "</div>"
      ],
      "text/plain": [
       "                                             sentence   emotion  \\\n",
       "5            Over my dead body are you arresting him.     Anger   \n",
       "8   Aggie finally found the cat a good home and fr...  Optimism   \n",
       "10                    You must sink your differences.  Optimism   \n",
       "11   Brian, as ever, decided not to sit on the fence.   Disgust   \n",
       "13  So, you know, whilst I'm a little bit reluctan...   Sadness   \n",
       "\n",
       "                                       Clean_Sentence  \n",
       "5                            dead body arresting him.  \n",
       "8   Aggie finally found cat good home day onwards ...  \n",
       "10                                  sink differences.  \n",
       "11                    Brian, ever, decided sit fence.  \n",
       "13  So, know, whilst I'm little bit reluctant, way...  "
      ]
     },
     "execution_count": 17,
     "metadata": {},
     "output_type": "execute_result"
    }
   ],
   "source": [
    "new_df.head()"
   ]
  },
  {
   "cell_type": "markdown",
   "id": "f44d6ca0",
   "metadata": {},
   "source": [
    "# Train and test split"
   ]
  },
  {
   "cell_type": "code",
   "execution_count": 18,
   "id": "ada59859",
   "metadata": {},
   "outputs": [],
   "source": [
    "Y=new_df[\"emotion\"]"
   ]
  },
  {
   "cell_type": "code",
   "execution_count": 19,
   "id": "8279e119",
   "metadata": {},
   "outputs": [],
   "source": [
    "X=new_df[\"Clean_Sentence\"]"
   ]
  },
  {
   "cell_type": "code",
   "execution_count": 20,
   "id": "d0961bf4",
   "metadata": {},
   "outputs": [],
   "source": [
    "X_train,X_test,Y_train,Y_test= train_test_split(X,Y,test_size=0.1,random_state=0)"
   ]
  },
  {
   "cell_type": "markdown",
   "id": "76cbf6c7",
   "metadata": {},
   "source": [
    "# pipeline"
   ]
  },
  {
   "cell_type": "code",
   "execution_count": 21,
   "id": "91ba6e40",
   "metadata": {},
   "outputs": [],
   "source": [
    "pipe=Pipeline(steps=[('cv',CountVectorizer()),('lr',LogisticRegression())])\n"
   ]
  },
  {
   "cell_type": "code",
   "execution_count": 22,
   "id": "7f17fcf6",
   "metadata": {},
   "outputs": [
    {
     "data": {
      "text/plain": [
       "Pipeline(steps=[('cv', CountVectorizer()), ('lr', LogisticRegression())])"
      ]
     },
     "execution_count": 22,
     "metadata": {},
     "output_type": "execute_result"
    }
   ],
   "source": [
    "pipe.fit(X_train,Y_train)"
   ]
  },
  {
   "cell_type": "code",
   "execution_count": 23,
   "id": "40640b43",
   "metadata": {},
   "outputs": [
    {
     "data": {
      "text/plain": [
       "Pipeline(steps=[('cv', CountVectorizer()), ('lr', LogisticRegression())])"
      ]
     },
     "execution_count": 23,
     "metadata": {},
     "output_type": "execute_result"
    }
   ],
   "source": [
    "pipe"
   ]
  },
  {
   "cell_type": "markdown",
   "id": "48f77cac",
   "metadata": {},
   "source": [
    "# Testing the number of classes in dataframe"
   ]
  },
  {
   "cell_type": "code",
   "execution_count": 24,
   "id": "bc81a96a",
   "metadata": {},
   "outputs": [
    {
     "data": {
      "text/plain": [
       "array(['Aggression', 'Ambiguous', 'Anger', 'Anticipation', 'Awe',\n",
       "       'Contempt', 'Disapproval', 'Disgust', 'Fear', 'Joy', 'Love',\n",
       "       'Optimism', 'Remorse', 'Sadness', 'Submission', 'Surprise',\n",
       "       'Trust'], dtype=object)"
      ]
     },
     "execution_count": 24,
     "metadata": {},
     "output_type": "execute_result"
    }
   ],
   "source": [
    "pipe.classes_"
   ]
  },
  {
   "cell_type": "markdown",
   "id": "53b11243",
   "metadata": {},
   "source": [
    "# Prediction"
   ]
  },
  {
   "cell_type": "code",
   "execution_count": 25,
   "id": "a62b2344",
   "metadata": {},
   "outputs": [
    {
     "data": {
      "text/plain": [
       "array(['Fear'], dtype=object)"
      ]
     },
     "execution_count": 25,
     "metadata": {},
     "output_type": "execute_result"
    }
   ],
   "source": [
    "test1=\"He was scared to death\"\n",
    "pipe.predict([test1])"
   ]
  },
  {
   "cell_type": "code",
   "execution_count": 26,
   "id": "fc57b479",
   "metadata": {},
   "outputs": [
    {
     "data": {
      "text/plain": [
       "array(['Disapproval'], dtype=object)"
      ]
     },
     "execution_count": 26,
     "metadata": {},
     "output_type": "execute_result"
    }
   ],
   "source": [
    "test2=\"His dark eyes reflected the disapproval in his tone.\"\n",
    "pipe.predict([test2])"
   ]
  },
  {
   "cell_type": "code",
   "execution_count": 27,
   "id": "7bff34da",
   "metadata": {},
   "outputs": [
    {
     "data": {
      "text/plain": [
       "array(['Anger'], dtype=object)"
      ]
     },
     "execution_count": 27,
     "metadata": {},
     "output_type": "execute_result"
    }
   ],
   "source": [
    "test3=\"He felt heartbroken\"\n",
    "pipe.predict([test3])"
   ]
  },
  {
   "cell_type": "code",
   "execution_count": 28,
   "id": "71259b60",
   "metadata": {},
   "outputs": [
    {
     "data": {
      "text/plain": [
       "array([[0.00785952, 0.01311938, 0.02770181, 0.03084286, 0.0493065 ,\n",
       "        0.02639975, 0.03627486, 0.00989883, 0.49923862, 0.04277476,\n",
       "        0.0244743 , 0.03617349, 0.02781338, 0.07714793, 0.03703844,\n",
       "        0.03959443, 0.01434114]])"
      ]
     },
     "execution_count": 28,
     "metadata": {},
     "output_type": "execute_result"
    }
   ],
   "source": [
    "pipe.predict_proba([test1])"
   ]
  },
  {
   "cell_type": "code",
   "execution_count": 29,
   "id": "0ff0bb6a",
   "metadata": {},
   "outputs": [
    {
     "data": {
      "text/plain": [
       "array([[0.01203088, 0.17632212, 0.05900027, 0.04708921, 0.01062481,\n",
       "        0.0234743 , 0.22489526, 0.01601902, 0.06671305, 0.0472061 ,\n",
       "        0.02461392, 0.11592485, 0.01512402, 0.02625049, 0.02843313,\n",
       "        0.08358711, 0.02269146]])"
      ]
     },
     "execution_count": 29,
     "metadata": {},
     "output_type": "execute_result"
    }
   ],
   "source": [
    "pipe.predict_proba([test2])"
   ]
  },
  {
   "cell_type": "code",
   "execution_count": 30,
   "id": "a3a09081",
   "metadata": {},
   "outputs": [
    {
     "data": {
      "text/plain": [
       "array([[0.01445595, 0.02927486, 0.12765267, 0.04045831, 0.03758526,\n",
       "        0.03434481, 0.07998742, 0.03922265, 0.08022423, 0.06988274,\n",
       "        0.04684614, 0.08991572, 0.04080163, 0.12700318, 0.03498493,\n",
       "        0.06661131, 0.04074818]])"
      ]
     },
     "execution_count": 30,
     "metadata": {},
     "output_type": "execute_result"
    }
   ],
   "source": [
    "pipe.predict_proba([test3])"
   ]
  },
  {
   "cell_type": "markdown",
   "id": "ce9a9856",
   "metadata": {},
   "source": [
    "# Accuracy"
   ]
  },
  {
   "cell_type": "code",
   "execution_count": 31,
   "id": "d4719c02",
   "metadata": {},
   "outputs": [
    {
     "name": "stdout",
     "output_type": "stream",
     "text": [
      "0.9419318816303741\n"
     ]
    }
   ],
   "source": [
    "print(pipe.score(X_train,Y_train))"
   ]
  },
  {
   "cell_type": "code",
   "execution_count": 32,
   "id": "7dbe55e8",
   "metadata": {},
   "outputs": [
    {
     "name": "stdout",
     "output_type": "stream",
     "text": [
      "0.33668341708542715\n"
     ]
    }
   ],
   "source": [
    "print(pipe.score(X_test,Y_test))"
   ]
  }
 ],
 "metadata": {
  "kernelspec": {
   "display_name": "Python 3 (ipykernel)",
   "language": "python",
   "name": "python3"
  },
  "language_info": {
   "codemirror_mode": {
    "name": "ipython",
    "version": 3
   },
   "file_extension": ".py",
   "mimetype": "text/x-python",
   "name": "python",
   "nbconvert_exporter": "python",
   "pygments_lexer": "ipython3",
   "version": "3.9.7"
  }
 },
 "nbformat": 4,
 "nbformat_minor": 5
}
